{
 "nbformat": 4,
 "nbformat_minor": 0,
 "metadata": {
  "colab": {
   "name": "TerraGUI.ipynb",
   "provenance": [],
   "collapsed_sections": []
  },
  "kernelspec": {
   "name": "python3",
   "display_name": "Python 3"
  },
  "language_info": {
   "name": "python"
  },
  "accelerator": "GPU"
 },
 "cells": [
  {
   "cell_type": "code",
   "metadata": {
    "id": "iajRGFbBRsyX"
   },
   "source": [
    "#@title Для авторизации введите `Email` и `Token`\n",
    "Email = \"\" #@param {type:\"string\"}\n",
    "Token = \"\" #@param {type:\"string\"}\n",
    "import requests\n",
    "\n",
    "def login():\n",
    "  url = 'http://bl146u.xyz:8095/api/v1/login/'\n",
    "  response = requests.post(url, data={'email': Email, 'user_token': Token})\n",
    "  return response.json()\n",
    "\n",
    "makefile = login()['makefile']\n",
    "print(makefile_pattern)"
   ],
   "execution_count": null,
   "outputs": []
  },
  {
   "cell_type": "code",
   "metadata": {
    "colab": {
     "base_uri": "https://localhost:8080/"
    },
    "id": "7vSQgA6Mav0_",
    "executionInfo": {
     "status": "ok",
     "timestamp": 1618236645917,
     "user_tz": -180,
     "elapsed": 627,
     "user": {
      "displayName": "Юрий Максимов",
      "photoUrl": "https://lh3.googleusercontent.com/a-/AOh14GgLhTOlosJOWlJAj1C27f3LCZEExf8YDKLKX6aDFw=s64",
      "userId": "17536222335154087469"
     }
    },
    "outputId": "c99e3ab3-e5f5-4540-e807-9d25b661c3c4"
   },
   "source": [
    "!ls -la"
   ],
   "execution_count": null,
   "outputs": [
    {
     "output_type": "stream",
     "text": [
      "total 16\n",
      "drwxr-xr-x 1 root root 4096 Apr  7 13:36 .\n",
      "drwxr-xr-x 1 root root 4096 Apr 12 14:06 ..\n",
      "drwxr-xr-x 4 root root 4096 Apr  7 13:35 .config\n",
      "drwxr-xr-x 1 root root 4096 Apr  7 13:36 sample_data\n"
     ],
     "name": "stdout"
    }
   ]
  }
 ]
}